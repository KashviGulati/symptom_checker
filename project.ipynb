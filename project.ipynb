{
 "cells": [
  {
   "cell_type": "code",
   "execution_count": null,
   "metadata": {},
   "outputs": [
    {
     "name": "stdout",
     "output_type": "stream",
     "text": [
      "Data preprocessing complete! ✅\n"
     ]
    },
    {
     "name": "stderr",
     "output_type": "stream",
     "text": [
      "<>:4: SyntaxWarning: invalid escape sequence '\\S'\n",
      "<>:4: SyntaxWarning: invalid escape sequence '\\S'\n",
      "C:\\Users\\HP\\AppData\\Local\\Temp\\ipykernel_9248\\2972316500.py:4: SyntaxWarning: invalid escape sequence '\\S'\n",
      "  file_path = \"C:\\Symptom Checker\\symbipredict_2022.csv\"\n"
     ]
    }
   ],
   "source": [
    "import pandas as pd\n",
    "from sklearn.preprocessing import LabelEncoder\n",
    "\n",
    "file_path = \"C:\\Symptom Checker\\symbipredict_2022.csv\"\n",
    "df = pd.read_csv(file_path)\n",
    "\n",
    "df.fillna(0, inplace=True)  \n",
    "\n",
    "label_encoder = LabelEncoder()\n",
    "df[\"prognosis\"] = label_encoder.fit_transform(df[\"prognosis\"])\n",
    "\n",
    "X = df.drop(columns=[\"prognosis\"])  \n",
    "y = df[\"prognosis\"] \n",
    "\n",
    "\n",
    "X = X / X.max()\n",
    "\n",
    "print(\"Data preprocessing complete! ✅\")\n"
   ]
  },
  {
   "cell_type": "code",
   "execution_count": 3,
   "metadata": {},
   "outputs": [
    {
     "name": "stdout",
     "output_type": "stream",
     "text": [
      "Training samples: 3968, Testing samples: 993\n"
     ]
    }
   ],
   "source": [
    "from sklearn.model_selection import train_test_split\n",
    "\n",
    "X_train, X_test, y_train, y_test = train_test_split(X, y, test_size=0.2, random_state=42)\n",
    "\n",
    "print(f\"Training samples: {len(X_train)}, Testing samples: {len(X_test)}\")\n"
   ]
  },
  {
   "cell_type": "code",
   "execution_count": 4,
   "metadata": {},
   "outputs": [
    {
     "name": "stdout",
     "output_type": "stream",
     "text": [
      "Model Accuracy: 100.00%\n"
     ]
    }
   ],
   "source": [
    "from sklearn.ensemble import RandomForestClassifier\n",
    "from sklearn.metrics import accuracy_score\n",
    "\n",
    "\n",
    "model = RandomForestClassifier(n_estimators=100, random_state=42)\n",
    "model.fit(X_train, y_train)\n",
    "\n",
    "y_pred = model.predict(X_test)\n",
    "\n",
    "\n",
    "accuracy = accuracy_score(y_test, y_pred)\n",
    "print(f\"Model Accuracy: {accuracy * 100:.2f}%\")\n"
   ]
  },
  {
   "cell_type": "code",
   "execution_count": 5,
   "metadata": {},
   "outputs": [
    {
     "name": "stdout",
     "output_type": "stream",
     "text": [
      "Predicted Disease: Bronchial Asthma\n"
     ]
    },
    {
     "name": "stderr",
     "output_type": "stream",
     "text": [
      "c:\\Users\\HP\\AppData\\Local\\Programs\\Python\\Python313\\Lib\\site-packages\\sklearn\\utils\\validation.py:2739: UserWarning: X does not have valid feature names, but RandomForestClassifier was fitted with feature names\n",
      "  warnings.warn(\n"
     ]
    }
   ],
   "source": [
    "import numpy as np\n",
    "\n",
    "def predict_disease(symptom_list):\n",
    "\n",
    "    input_data = np.zeros(len(X.columns))  \n",
    "    for symptom in symptom_list:\n",
    "        if symptom in X.columns:\n",
    "            input_data[X.columns.get_loc(symptom)] = 1  \n",
    "\n",
    "   \n",
    "    prediction = model.predict([input_data])\n",
    "    disease_name = label_encoder.inverse_transform(prediction)[0]\n",
    "    return disease_name\n",
    "\n",
    "\n",
    "user_symptoms = [\"cough\", \"fever\", \"fatigue\"]\n",
    "predicted_disease = predict_disease(user_symptoms)\n",
    "print(f\"Predicted Disease: {predicted_disease}\")\n"
   ]
  },
  {
   "cell_type": "code",
   "execution_count": 6,
   "metadata": {},
   "outputs": [
    {
     "name": "stdout",
     "output_type": "stream",
     "text": [
      "Model saved successfully! ✅\n"
     ]
    }
   ],
   "source": [
    "import joblib\n",
    "\n",
    "joblib.dump(model, \"symptom_checker_model.pkl\")\n",
    "print(\"Model saved successfully! ✅\")\n",
    "\n",
    "loaded_model = joblib.load(\"symptom_checker_model.pkl\")\n"
   ]
  },
  {
   "cell_type": "code",
   "execution_count": 7,
   "metadata": {},
   "outputs": [
    {
     "name": "stdout",
     "output_type": "stream",
     "text": [
      "Label Encoder saved successfully! ✅\n"
     ]
    }
   ],
   "source": [
    "import joblib\n",
    "\n",
    "# Save label encoder\n",
    "joblib.dump(label_encoder, \"label_encoder.pkl\")\n",
    "print(\"Label Encoder saved successfully! ✅\")\n"
   ]
  }
 ],
 "metadata": {
  "kernelspec": {
   "display_name": "Python 3",
   "language": "python",
   "name": "python3"
  },
  "language_info": {
   "codemirror_mode": {
    "name": "ipython",
    "version": 3
   },
   "file_extension": ".py",
   "mimetype": "text/x-python",
   "name": "python",
   "nbconvert_exporter": "python",
   "pygments_lexer": "ipython3",
   "version": "3.13.2"
  }
 },
 "nbformat": 4,
 "nbformat_minor": 2
}
